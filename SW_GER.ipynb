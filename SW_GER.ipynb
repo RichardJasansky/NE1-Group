{
 "cells": [
  {
   "attachments": {},
   "cell_type": "markdown",
   "metadata": {},
   "source": [
    "Smallworldness"
   ]
  },
  {
   "cell_type": "code",
   "execution_count": 1,
   "metadata": {},
   "outputs": [],
   "source": [
    "import pandas as pd\n",
    "import networkx as nx"
   ]
  },
  {
   "cell_type": "code",
   "execution_count": 7,
   "metadata": {},
   "outputs": [],
   "source": [
    "Europe_2019 = pd.read_csv(\"EU_routes_2019.csv.gz\")"
   ]
  },
  {
   "cell_type": "code",
   "execution_count": 3,
   "metadata": {},
   "outputs": [],
   "source": [
    "# Load the data containing the locations' names, latitude, and longitude GER 2019\n",
    "Germany_2019 = Europe_2019.loc[(Europe_2019['origin_country'] == 'Germany') & (Europe_2019['destination_city'] == \"Berlin\")]"
   ]
  },
  {
   "cell_type": "code",
   "execution_count": 12,
   "metadata": {},
   "outputs": [],
   "source": [
    "#G2019_directed=nx.from_pandas_edgelist(routes2019, source = 'origin_IATA', target = 'destination_IATA', edge_attr= 'weight', create_using=nx.DiGraph())\n",
    "G_germany_2019_undirected = nx.from_pandas_edgelist(Europe_2019, source = \"origin_IATA\", target = \"destination_IATA\", edge_attr= 'weight', create_using=nx.Graph())\n",
    "#G2022_directed=nx.from_pandas_edgelist(routes2022, source = 'origin_IATA', target = 'destination_IATA', edge_attr= 'weight', create_using=nx.DiGraph())\n",
    "#G2022_undirected = nx.from_pandas_edgelist(routes2022, source = \"origin_IATA\", target = \"destination_IATA\", edge_attr= 'weight', create_using=nx.Graph())"
   ]
  },
  {
   "cell_type": "code",
   "execution_count": 14,
   "metadata": {},
   "outputs": [
    {
     "ename": "KeyboardInterrupt",
     "evalue": "",
     "output_type": "error",
     "traceback": [
      "\u001b[1;31m---------------------------------------------------------------------------\u001b[0m",
      "\u001b[1;31mKeyboardInterrupt\u001b[0m                         Traceback (most recent call last)",
      "Cell \u001b[1;32mIn[14], line 1\u001b[0m\n\u001b[1;32m----> 1\u001b[0m nx\u001b[39m.\u001b[39;49malgorithms\u001b[39m.\u001b[39;49msmallworld\u001b[39m.\u001b[39;49msigma(G_germany_2019_undirected, niter\u001b[39m=\u001b[39;49m\u001b[39m1\u001b[39;49m, nrand\u001b[39m=\u001b[39;49m\u001b[39m1\u001b[39;49m, seed\u001b[39m=\u001b[39;49m\u001b[39m1\u001b[39;49m)\n",
      "File \u001b[1;32m<class 'networkx.utils.decorators.argmap'> compilation 10:6\u001b[0m, in \u001b[0;36margmap_sigma_5\u001b[1;34m(G, niter, nrand, seed)\u001b[0m\n\u001b[0;32m      4\u001b[0m \u001b[39mimport\u001b[39;00m \u001b[39minspect\u001b[39;00m\n\u001b[0;32m      5\u001b[0m \u001b[39mimport\u001b[39;00m \u001b[39mitertools\u001b[39;00m\n\u001b[1;32m----> 6\u001b[0m \u001b[39mimport\u001b[39;00m \u001b[39mre\u001b[39;00m\n\u001b[0;32m      7\u001b[0m \u001b[39mfrom\u001b[39;00m \u001b[39mcollections\u001b[39;00m \u001b[39mimport\u001b[39;00m defaultdict\n\u001b[0;32m      8\u001b[0m \u001b[39mfrom\u001b[39;00m \u001b[39mcontextlib\u001b[39;00m \u001b[39mimport\u001b[39;00m contextmanager\n",
      "File \u001b[1;32mc:\\Users\\Gamebore2\\miniconda3\\envs\\myenv\\lib\\site-packages\\networkx\\algorithms\\smallworld.py:297\u001b[0m, in \u001b[0;36msigma\u001b[1;34m(G, niter, nrand, seed)\u001b[0m\n\u001b[0;32m    295\u001b[0m randMetrics \u001b[39m=\u001b[39m {\u001b[39m\"\u001b[39m\u001b[39mC\u001b[39m\u001b[39m\"\u001b[39m: [], \u001b[39m\"\u001b[39m\u001b[39mL\u001b[39m\u001b[39m\"\u001b[39m: []}\n\u001b[0;32m    296\u001b[0m \u001b[39mfor\u001b[39;00m i \u001b[39min\u001b[39;00m \u001b[39mrange\u001b[39m(nrand):\n\u001b[1;32m--> 297\u001b[0m     Gr \u001b[39m=\u001b[39m random_reference(G, niter\u001b[39m=\u001b[39;49mniter, seed\u001b[39m=\u001b[39;49mseed)\n\u001b[0;32m    298\u001b[0m     randMetrics[\u001b[39m\"\u001b[39m\u001b[39mC\u001b[39m\u001b[39m\"\u001b[39m]\u001b[39m.\u001b[39mappend(nx\u001b[39m.\u001b[39mtransitivity(Gr))\n\u001b[0;32m    299\u001b[0m     randMetrics[\u001b[39m\"\u001b[39m\u001b[39mL\u001b[39m\u001b[39m\"\u001b[39m]\u001b[39m.\u001b[39mappend(nx\u001b[39m.\u001b[39maverage_shortest_path_length(Gr))\n",
      "File \u001b[1;32m<class 'networkx.utils.decorators.argmap'> compilation 16:6\u001b[0m, in \u001b[0;36margmap_random_reference_11\u001b[1;34m(G, niter, connectivity, seed)\u001b[0m\n\u001b[0;32m      4\u001b[0m \u001b[39mimport\u001b[39;00m \u001b[39minspect\u001b[39;00m\n\u001b[0;32m      5\u001b[0m \u001b[39mimport\u001b[39;00m \u001b[39mitertools\u001b[39;00m\n\u001b[1;32m----> 6\u001b[0m \u001b[39mimport\u001b[39;00m \u001b[39mre\u001b[39;00m\n\u001b[0;32m      7\u001b[0m \u001b[39mfrom\u001b[39;00m \u001b[39mcollections\u001b[39;00m \u001b[39mimport\u001b[39;00m defaultdict\n\u001b[0;32m      8\u001b[0m \u001b[39mfrom\u001b[39;00m \u001b[39mcontextlib\u001b[39;00m \u001b[39mimport\u001b[39;00m contextmanager\n",
      "File \u001b[1;32mc:\\Users\\Gamebore2\\miniconda3\\envs\\myenv\\lib\\site-packages\\networkx\\algorithms\\smallworld.py:107\u001b[0m, in \u001b[0;36mrandom_reference\u001b[1;34m(G, niter, connectivity, seed)\u001b[0m\n\u001b[0;32m    104\u001b[0m G\u001b[39m.\u001b[39mremove_edge(c, d)\n\u001b[0;32m    106\u001b[0m \u001b[39m# Check if the graph is still connected\u001b[39;00m\n\u001b[1;32m--> 107\u001b[0m \u001b[39mif\u001b[39;00m connectivity \u001b[39mand\u001b[39;00m local_conn(G, a, b) \u001b[39m==\u001b[39m \u001b[39m0\u001b[39m:\n\u001b[0;32m    108\u001b[0m     \u001b[39m# Not connected, revert the swap\u001b[39;00m\n\u001b[0;32m    109\u001b[0m     G\u001b[39m.\u001b[39mremove_edge(a, d)\n\u001b[0;32m    110\u001b[0m     G\u001b[39m.\u001b[39mremove_edge(c, b)\n",
      "File \u001b[1;32mc:\\Users\\Gamebore2\\miniconda3\\envs\\myenv\\lib\\site-packages\\networkx\\algorithms\\connectivity\\connectivity.py:645\u001b[0m, in \u001b[0;36mlocal_edge_connectivity\u001b[1;34m(G, s, t, flow_func, auxiliary, residual, cutoff)\u001b[0m\n\u001b[0;32m    642\u001b[0m \u001b[39melif\u001b[39;00m flow_func \u001b[39mis\u001b[39;00m boykov_kolmogorov:\n\u001b[0;32m    643\u001b[0m     kwargs[\u001b[39m\"\u001b[39m\u001b[39mcutoff\u001b[39m\u001b[39m\"\u001b[39m] \u001b[39m=\u001b[39m cutoff\n\u001b[1;32m--> 645\u001b[0m \u001b[39mreturn\u001b[39;00m nx\u001b[39m.\u001b[39mmaximum_flow_value(H, s, t, \u001b[39m*\u001b[39m\u001b[39m*\u001b[39mkwargs)\n",
      "File \u001b[1;32mc:\\Users\\Gamebore2\\miniconda3\\envs\\myenv\\lib\\site-packages\\networkx\\algorithms\\flow\\maxflow.py:299\u001b[0m, in \u001b[0;36mmaximum_flow_value\u001b[1;34m(flowG, _s, _t, capacity, flow_func, **kwargs)\u001b[0m\n\u001b[0;32m    296\u001b[0m \u001b[39mif\u001b[39;00m \u001b[39mnot\u001b[39;00m callable(flow_func):\n\u001b[0;32m    297\u001b[0m     \u001b[39mraise\u001b[39;00m nx\u001b[39m.\u001b[39mNetworkXError(\u001b[39m\"\u001b[39m\u001b[39mflow_func has to be callable.\u001b[39m\u001b[39m\"\u001b[39m)\n\u001b[1;32m--> 299\u001b[0m R \u001b[39m=\u001b[39m flow_func(flowG, _s, _t, capacity\u001b[39m=\u001b[39mcapacity, value_only\u001b[39m=\u001b[39m\u001b[39mTrue\u001b[39;00m, \u001b[39m*\u001b[39m\u001b[39m*\u001b[39mkwargs)\n\u001b[0;32m    301\u001b[0m \u001b[39mreturn\u001b[39;00m R\u001b[39m.\u001b[39mgraph[\u001b[39m\"\u001b[39m\u001b[39mflow_value\u001b[39m\u001b[39m\"\u001b[39m]\n",
      "File \u001b[1;32mc:\\Users\\Gamebore2\\miniconda3\\envs\\myenv\\lib\\site-packages\\networkx\\algorithms\\flow\\edmondskarp.py:237\u001b[0m, in \u001b[0;36medmonds_karp\u001b[1;34m(G, s, t, capacity, residual, value_only, cutoff)\u001b[0m\n\u001b[0;32m    120\u001b[0m \u001b[39mdef\u001b[39;00m \u001b[39medmonds_karp\u001b[39m(\n\u001b[0;32m    121\u001b[0m     G, s, t, capacity\u001b[39m=\u001b[39m\u001b[39m\"\u001b[39m\u001b[39mcapacity\u001b[39m\u001b[39m\"\u001b[39m, residual\u001b[39m=\u001b[39m\u001b[39mNone\u001b[39;00m, value_only\u001b[39m=\u001b[39m\u001b[39mFalse\u001b[39;00m, cutoff\u001b[39m=\u001b[39m\u001b[39mNone\u001b[39;00m\n\u001b[0;32m    122\u001b[0m ):\n\u001b[0;32m    123\u001b[0m     \u001b[39m\"\"\"Find a maximum single-commodity flow using the Edmonds-Karp algorithm.\u001b[39;00m\n\u001b[0;32m    124\u001b[0m \n\u001b[0;32m    125\u001b[0m \u001b[39m    This function returns the residual network resulting after computing\u001b[39;00m\n\u001b[1;32m   (...)\u001b[0m\n\u001b[0;32m    235\u001b[0m \n\u001b[0;32m    236\u001b[0m \u001b[39m    \"\"\"\u001b[39;00m\n\u001b[1;32m--> 237\u001b[0m     R \u001b[39m=\u001b[39m edmonds_karp_impl(G, s, t, capacity, residual, cutoff)\n\u001b[0;32m    238\u001b[0m     R\u001b[39m.\u001b[39mgraph[\u001b[39m\"\u001b[39m\u001b[39malgorithm\u001b[39m\u001b[39m\"\u001b[39m] \u001b[39m=\u001b[39m \u001b[39m\"\u001b[39m\u001b[39medmonds_karp\u001b[39m\u001b[39m\"\u001b[39m\n\u001b[0;32m    239\u001b[0m     \u001b[39mreturn\u001b[39;00m R\n",
      "File \u001b[1;32mc:\\Users\\Gamebore2\\miniconda3\\envs\\myenv\\lib\\site-packages\\networkx\\algorithms\\flow\\edmondskarp.py:104\u001b[0m, in \u001b[0;36medmonds_karp_impl\u001b[1;34m(G, s, t, capacity, residual, cutoff)\u001b[0m\n\u001b[0;32m    101\u001b[0m     \u001b[39mraise\u001b[39;00m nx\u001b[39m.\u001b[39mNetworkXError(\u001b[39m\"\u001b[39m\u001b[39msource and sink are the same node\u001b[39m\u001b[39m\"\u001b[39m)\n\u001b[0;32m    103\u001b[0m \u001b[39mif\u001b[39;00m residual \u001b[39mis\u001b[39;00m \u001b[39mNone\u001b[39;00m:\n\u001b[1;32m--> 104\u001b[0m     R \u001b[39m=\u001b[39m build_residual_network(G, capacity)\n\u001b[0;32m    105\u001b[0m \u001b[39melse\u001b[39;00m:\n\u001b[0;32m    106\u001b[0m     R \u001b[39m=\u001b[39m residual\n",
      "File \u001b[1;32mc:\\Users\\Gamebore2\\miniconda3\\envs\\myenv\\lib\\site-packages\\networkx\\algorithms\\flow\\utils.py:108\u001b[0m, in \u001b[0;36mbuild_residual_network\u001b[1;34m(G, capacity)\u001b[0m\n\u001b[0;32m    106\u001b[0m inf \u001b[39m=\u001b[39m \u001b[39mfloat\u001b[39m(\u001b[39m\"\u001b[39m\u001b[39minf\u001b[39m\u001b[39m\"\u001b[39m)\n\u001b[0;32m    107\u001b[0m \u001b[39m# Extract edges with positive capacities. Self loops excluded.\u001b[39;00m\n\u001b[1;32m--> 108\u001b[0m edge_list \u001b[39m=\u001b[39m [\n\u001b[0;32m    109\u001b[0m     (u, v, attr)\n\u001b[0;32m    110\u001b[0m     \u001b[39mfor\u001b[39;00m u, v, attr \u001b[39min\u001b[39;00m G\u001b[39m.\u001b[39medges(data\u001b[39m=\u001b[39m\u001b[39mTrue\u001b[39;00m)\n\u001b[0;32m    111\u001b[0m     \u001b[39mif\u001b[39;00m u \u001b[39m!=\u001b[39m v \u001b[39mand\u001b[39;00m attr\u001b[39m.\u001b[39mget(capacity, inf) \u001b[39m>\u001b[39m \u001b[39m0\u001b[39m\n\u001b[0;32m    112\u001b[0m ]\n\u001b[0;32m    113\u001b[0m \u001b[39m# Simulate infinity with three times the sum of the finite edge capacities\u001b[39;00m\n\u001b[0;32m    114\u001b[0m \u001b[39m# or any positive value if the sum is zero. This allows the\u001b[39;00m\n\u001b[0;32m    115\u001b[0m \u001b[39m# infinite-capacity edges to be distinguished for unboundedness detection\u001b[39;00m\n\u001b[1;32m   (...)\u001b[0m\n\u001b[0;32m    121\u001b[0m \u001b[39m# than 1/3 of inf units of flow to t, there must be an infinite-capacity\u001b[39;00m\n\u001b[0;32m    122\u001b[0m \u001b[39m# s-t path in G.\u001b[39;00m\n\u001b[0;32m    123\u001b[0m inf \u001b[39m=\u001b[39m (\n\u001b[0;32m    124\u001b[0m     \u001b[39m3\u001b[39m\n\u001b[0;32m    125\u001b[0m     \u001b[39m*\u001b[39m \u001b[39msum\u001b[39m(\n\u001b[1;32m   (...)\u001b[0m\n\u001b[0;32m    130\u001b[0m     \u001b[39mor\u001b[39;00m \u001b[39m1\u001b[39m\n\u001b[0;32m    131\u001b[0m )\n",
      "File \u001b[1;32mc:\\Users\\Gamebore2\\miniconda3\\envs\\myenv\\lib\\site-packages\\networkx\\algorithms\\flow\\utils.py:111\u001b[0m, in \u001b[0;36m<listcomp>\u001b[1;34m(.0)\u001b[0m\n\u001b[0;32m    106\u001b[0m inf \u001b[39m=\u001b[39m \u001b[39mfloat\u001b[39m(\u001b[39m\"\u001b[39m\u001b[39minf\u001b[39m\u001b[39m\"\u001b[39m)\n\u001b[0;32m    107\u001b[0m \u001b[39m# Extract edges with positive capacities. Self loops excluded.\u001b[39;00m\n\u001b[0;32m    108\u001b[0m edge_list \u001b[39m=\u001b[39m [\n\u001b[0;32m    109\u001b[0m     (u, v, attr)\n\u001b[0;32m    110\u001b[0m     \u001b[39mfor\u001b[39;00m u, v, attr \u001b[39min\u001b[39;00m G\u001b[39m.\u001b[39medges(data\u001b[39m=\u001b[39m\u001b[39mTrue\u001b[39;00m)\n\u001b[1;32m--> 111\u001b[0m     \u001b[39mif\u001b[39;00m u \u001b[39m!=\u001b[39m v \u001b[39mand\u001b[39;00m attr\u001b[39m.\u001b[39;49mget(capacity, inf) \u001b[39m>\u001b[39m \u001b[39m0\u001b[39m\n\u001b[0;32m    112\u001b[0m ]\n\u001b[0;32m    113\u001b[0m \u001b[39m# Simulate infinity with three times the sum of the finite edge capacities\u001b[39;00m\n\u001b[0;32m    114\u001b[0m \u001b[39m# or any positive value if the sum is zero. This allows the\u001b[39;00m\n\u001b[0;32m    115\u001b[0m \u001b[39m# infinite-capacity edges to be distinguished for unboundedness detection\u001b[39;00m\n\u001b[1;32m   (...)\u001b[0m\n\u001b[0;32m    121\u001b[0m \u001b[39m# than 1/3 of inf units of flow to t, there must be an infinite-capacity\u001b[39;00m\n\u001b[0;32m    122\u001b[0m \u001b[39m# s-t path in G.\u001b[39;00m\n\u001b[0;32m    123\u001b[0m inf \u001b[39m=\u001b[39m (\n\u001b[0;32m    124\u001b[0m     \u001b[39m3\u001b[39m\n\u001b[0;32m    125\u001b[0m     \u001b[39m*\u001b[39m \u001b[39msum\u001b[39m(\n\u001b[1;32m   (...)\u001b[0m\n\u001b[0;32m    130\u001b[0m     \u001b[39mor\u001b[39;00m \u001b[39m1\u001b[39m\n\u001b[0;32m    131\u001b[0m )\n",
      "\u001b[1;31mKeyboardInterrupt\u001b[0m: "
     ]
    }
   ],
   "source": [
    "nx.algorithms.smallworld.sigma(G_germany_2019_undirected, niter=1, nrand=1, seed=1)"
   ]
  }
 ],
 "metadata": {
  "kernelspec": {
   "display_name": "myenv",
   "language": "python",
   "name": "python3"
  },
  "language_info": {
   "codemirror_mode": {
    "name": "ipython",
    "version": 3
   },
   "file_extension": ".py",
   "mimetype": "text/x-python",
   "name": "python",
   "nbconvert_exporter": "python",
   "pygments_lexer": "ipython3",
   "version": "3.10.9 | packaged by conda-forge | (main, Jan 11 2023, 15:15:40) [MSC v.1916 64 bit (AMD64)]"
  },
  "orig_nbformat": 4,
  "vscode": {
   "interpreter": {
    "hash": "37fdc36ffcc7389240c875f25a57276221d388ac9ea03b2fd98feb1152838469"
   }
  }
 },
 "nbformat": 4,
 "nbformat_minor": 2
}
