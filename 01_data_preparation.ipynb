{
 "cells": [
  {
   "cell_type": "code",
   "execution_count": 1,
   "metadata": {},
   "outputs": [],
   "source": [
    "import pandas as pd\n",
    "import numpy as np"
   ]
  },
  {
   "cell_type": "code",
   "execution_count": 2,
   "metadata": {},
   "outputs": [],
   "source": [
    "from pycountry_convert import country_alpha2_to_continent_code, country_name_to_country_alpha2\n",
    "\n",
    "def country_name_to_continent_code(country_name):\n",
    "    '''Takes a country name and gives back the code of the continent the country is located in.'''\n",
    "    \n",
    "    #Manually assigning Russia to Asia\n",
    "    if(country_name in [\"Russia\", \"russia\"]):\n",
    "        return \"AS\"\n",
    "    \n",
    "    else:\n",
    "        #try to obtain a valid continent code, else return NaN\n",
    "        try:\n",
    "            country_code = country_name_to_country_alpha2(country_name)\n",
    "            continent = country_alpha2_to_continent_code(country_code)\n",
    "            return continent\n",
    "        except:\n",
    "            return np.nan   "
   ]
  },
  {
   "cell_type": "code",
   "execution_count": 3,
   "metadata": {},
   "outputs": [],
   "source": [
    "#Path to all data\n",
    "path = \"./data/\""
   ]
  },
  {
   "attachments": {},
   "cell_type": "markdown",
   "metadata": {},
   "source": [
    "# Import Airport Dataset"
   ]
  },
  {
   "cell_type": "code",
   "execution_count": 4,
   "metadata": {},
   "outputs": [],
   "source": [
    "#Filename of the file containing details of the airport\n",
    "fileAirports = \"airports.csv\"\n",
    "\n",
    "#Import the airport dataset\n",
    "dtypes = {\"Name\": str, \"City\": str, \"Country\": str, \"IATA\": str, \"ICAO\": str, \"Latitude\": np.float32, \"Longitude\": np.float32}\n",
    "usecols = list(dtypes.keys())\n",
    "airports = pd.read_csv(path + fileAirports, usecols=usecols, dtype = dtypes, na_values=\"\\\\N\")\n",
    "\n",
    "#Get Continent Code from country name\n",
    "airports[\"continent\"] = airports.Country.apply(country_name_to_continent_code)\n",
    "\n",
    "airports.rename(columns = {\"Name\": \"airport_name\", \"City\": \"city\", \"Country\": \"country\", \"Latitude\": \"latitude\", \"Longitude\": \"longitude\"}, inplace = True)"
   ]
  },
  {
   "cell_type": "code",
   "execution_count": 11,
   "metadata": {},
   "outputs": [],
   "source": [
    "airports.to_csv(path + \"airports_clean.csv\")"
   ]
  },
  {
   "attachments": {},
   "cell_type": "markdown",
   "metadata": {},
   "source": [
    "# Define Cleaning Function"
   ]
  },
  {
   "cell_type": "code",
   "execution_count": 5,
   "metadata": {},
   "outputs": [],
   "source": [
    "def get_clean_dataset(df, continents = [\"EU\"], domestic_flights_only = True):\n",
    "\n",
    "    '''Cleans a given flight dataset for a given continent.\n",
    "    NaNs in origin and destination IATA Codes are dropped in order to (1) remove incomplete information and \n",
    "    (2) remove flights from or to airports without an IATA code (regional airports).\n",
    "    Flights origined and destined at the same airport are dropped, since assumed to be non commercial.\n",
    "    Flights are aggregated by origin and destination with the number of unique callsigns as their weight.\n",
    "    Finally additional information about origin and destination airport is added.\n",
    "    \n",
    "    If domestic_flights_only == False the function also returns fligths either origined or destined in other continents.'''\n",
    "\n",
    "    try:\n",
    "        df = pd.DataFrame(df)\n",
    "    except:\n",
    "        raise TypeError(\"df must be specified and convertable to a DataFrame.\")\n",
    "    \n",
    "    #adding IATA Code and Continent to the dataset\n",
    "    for dir in [\"origin\", \"destination\"]:\n",
    "        df = df.merge(airports[[\"ICAO\", \"IATA\", \"continent\"]].add_prefix(dir + \"_\"), \n",
    "                            how = \"left\", left_on = dir, right_on = dir + \"_ICAO\", validate = \"m:1\")\n",
    "\n",
    "    #dropping NaNs in IATA Codes\n",
    "    df.dropna(subset=[\"origin_IATA\", \"destination_IATA\"], inplace=True)\n",
    "\n",
    "    #dropping rows where origin == destination\n",
    "    df = df.loc[df[\"origin_IATA\"] != df[\"destination_IATA\"]]\n",
    "\n",
    "    #filtering for the specified continent, if domestic_flights_only is False, flights origined or destined in other continents are considered too\n",
    "    if domestic_flights_only:\n",
    "        df = df.loc[(df.origin_continent.isin(continents)) & (df.destination_continent.isin(continents))]\n",
    "    else:\n",
    "        df = df.loc[(df.origin_continent.isin(continents)) | (df.destination_continent.isin(continents))]\n",
    "    \n",
    "\n",
    "    #grouping of the airports by origin and destination\n",
    "    df = df.groupby([\"origin_IATA\", \"destination_IATA\"]).nunique().reset_index()\n",
    "\n",
    "    #delete not needed columns\n",
    "    df = df \\\n",
    "    .drop(columns = [\"origin\", \"destination\", \"origin_ICAO\", \"origin_continent\", \"destination_ICAO\", \"destination_continent\"]) \\\n",
    "    .rename(columns = {\"callsign\": \"weight\", \"icao24\": \"rec_aircrafts\", \"day\": \"rec_days\"})\n",
    "\n",
    "    #delete flights that only occur once in a month\n",
    "    df = df.loc[df.rec_days>1]\n",
    "\n",
    "    #add additional information about the airports\n",
    "    for dir in [\"origin\", \"destination\"]:\n",
    "        df = df.merge(airports.add_prefix(dir + \"_\"), \n",
    "                            how = \"left\", on = dir + \"_IATA\")\n",
    "\n",
    "    return df"
   ]
  },
  {
   "attachments": {},
   "cell_type": "markdown",
   "metadata": {},
   "source": [
    "# Import, Clean and Save Flight Data"
   ]
  },
  {
   "cell_type": "code",
   "execution_count": 6,
   "metadata": {},
   "outputs": [],
   "source": [
    "\n",
    "file2022 = \"flightlist_20220801_20220830.csv.gz\"\n",
    "file2019 = \"flightlist_20190801_20190831.csv.gz\"\n",
    "usecols = [\"callsign\", \"icao24\", \"origin\", \"destination\", \"day\"]\n",
    "database2022 = pd.read_csv(path + file2022, usecols = usecols, compression = \"gzip\", parse_dates = [\"day\"])\n",
    "database2019 = pd.read_csv(path + file2019, usecols = usecols, compression = \"gzip\", parse_dates = [\"day\"])"
   ]
  },
  {
   "cell_type": "code",
   "execution_count": 18,
   "metadata": {},
   "outputs": [],
   "source": [
    "continents = [\"EU\"]\n",
    "clean_db2022 = get_clean_dataset(database2022, continents = continents)\n",
    "clean_db2019 = get_clean_dataset(database2019, continents = continents)"
   ]
  },
  {
   "cell_type": "code",
   "execution_count": 19,
   "metadata": {},
   "outputs": [],
   "source": [
    "#Replace the outdated IATA Code of SXF with the new BER for 2022\n",
    "clean_db2022.loc[clean_db2022.origin_IATA == \"SXF\", \"origin_IATA\"] = \"BER\"\n",
    "clean_db2022.loc[clean_db2022.destination_IATA == \"SXF\", \"destination_IATA\"] = \"BER\""
   ]
  },
  {
   "cell_type": "code",
   "execution_count": 20,
   "metadata": {},
   "outputs": [],
   "source": [
    "filename2019 = \"-\".join(continents) + \"_routes_2019.csv.gz\"\n",
    "filename2022 = \"-\".join(continents) + \"_routes_2022.csv.gz\"\n",
    "clean_db2019.to_csv(path + filename2019, compression = \"gzip\", index = False)\n",
    "clean_db2022.to_csv(path + filename2022, compression = \"gzip\", index = False)"
   ]
  }
 ],
 "metadata": {
  "kernelspec": {
   "display_name": "myenv",
   "language": "python",
   "name": "python3"
  },
  "language_info": {
   "codemirror_mode": {
    "name": "ipython",
    "version": 3
   },
   "file_extension": ".py",
   "mimetype": "text/x-python",
   "name": "python",
   "nbconvert_exporter": "python",
   "pygments_lexer": "ipython3",
   "version": "3.10.9 | packaged by conda-forge | (main, Jan 11 2023, 15:15:40) [MSC v.1916 64 bit (AMD64)]"
  },
  "orig_nbformat": 4,
  "vscode": {
   "interpreter": {
    "hash": "37fdc36ffcc7389240c875f25a57276221d388ac9ea03b2fd98feb1152838469"
   }
  }
 },
 "nbformat": 4,
 "nbformat_minor": 2
}
