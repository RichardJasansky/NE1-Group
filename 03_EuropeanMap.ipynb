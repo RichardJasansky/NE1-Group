{
 "cells": [
  {
   "cell_type": "code",
   "execution_count": 17,
   "metadata": {},
   "outputs": [],
   "source": [
    "import folium\n",
    "import pandas as pd"
   ]
  },
  {
   "cell_type": "code",
   "execution_count": 18,
   "metadata": {},
   "outputs": [],
   "source": [
    "# Create a map centered on Europe\n",
    "map = folium.Map(location=[50, 15], zoom_start=4)"
   ]
  },
  {
   "cell_type": "code",
   "execution_count": 19,
   "metadata": {},
   "outputs": [],
   "source": [
    "# Load the data containing the locations' names, latitude, and longitude\n",
    "Routes_2019 = pd.read_csv(\"./data/EU_routes_2019.csv.gz\")"
   ]
  },
  {
   "cell_type": "code",
   "execution_count": 20,
   "metadata": {},
   "outputs": [],
   "source": [
    "# Add markers for each location to the map\n",
    "for index, row in Routes_2019.iterrows():\n",
    "    folium.Marker([row['origin_latitude'], row['origin_longitude']], popup=row['origin_airport_name']).add_to(map)"
   ]
  },
  {
   "cell_type": "code",
   "execution_count": 21,
   "metadata": {},
   "outputs": [],
   "source": [
    "# Save the map as an HTML file\n",
    "map.save(\"map.html\")"
   ]
  },
  {
   "cell_type": "code",
   "execution_count": 25,
   "metadata": {},
   "outputs": [],
   "source": [
    "# Create an empty list to store the coordinates of the locations\n",
    "coords = []"
   ]
  },
  {
   "cell_type": "code",
   "execution_count": 26,
   "metadata": {},
   "outputs": [],
   "source": [
    "# Add markers for each location to the map\n",
    "for index, row in locations.iterrows():\n",
    "    coords.append([row['latitude_origin'], row['longitude_origin']])\n",
    "    folium.Marker([row['latitude_origin'], row['longitude_origin']], popup=row['origin']).add_to(map)"
   ]
  },
  {
   "cell_type": "code",
   "execution_count": 27,
   "metadata": {},
   "outputs": [
    {
     "data": {
      "text/plain": [
       "<folium.vector_layers.PolyLine at 0x2a5e8388650>"
      ]
     },
     "execution_count": 27,
     "metadata": {},
     "output_type": "execute_result"
    }
   ],
   "source": [
    "# Connect the locations with lines\n",
    "folium.PolyLine(coords, color=\"red\", weight=2.5, opacity=1).add_to(map)"
   ]
  },
  {
   "attachments": {},
   "cell_type": "markdown",
   "metadata": {},
   "source": [
    "*Alternative process / Weighted network*"
   ]
  },
  {
   "cell_type": "code",
   "execution_count": 33,
   "metadata": {},
   "outputs": [],
   "source": [
    "for index, row in locations.iterrows():\n",
    "    coords.append([row['latitude_origin'], row['longitude_origin']])\n",
    "    folium.Marker([row['latitude_origin'], row['longitude_origin']], popup=row['origin airport']).add_to(map)"
   ]
  },
  {
   "cell_type": "code",
   "execution_count": 34,
   "metadata": {},
   "outputs": [],
   "source": [
    "# Connect the locations with weighted lines\n",
    "for i in range(len(coords)-1):\n",
    "    folium.PolyLine([coords[i], coords[i+1]], color=row['Routes'], weight=2.5, opacity=1).add_to(map)"
   ]
  }
 ],
 "metadata": {
  "kernelspec": {
   "display_name": "first-env",
   "language": "python",
   "name": "python3"
  },
  "language_info": {
   "codemirror_mode": {
    "name": "ipython",
    "version": 3
   },
   "file_extension": ".py",
   "mimetype": "text/x-python",
   "name": "python",
   "nbconvert_exporter": "python",
   "pygments_lexer": "ipython3",
   "version": "3.9.16 (main, Jan 11 2023, 16:05:54) \n[GCC 11.2.0]"
  },
  "orig_nbformat": 4,
  "vscode": {
   "interpreter": {
    "hash": "1adbfaa39e342c98ac6ff25648b01bcea2a38342be3cb6ac4fd601caab6c79df"
   }
  }
 },
 "nbformat": 4,
 "nbformat_minor": 2
}
